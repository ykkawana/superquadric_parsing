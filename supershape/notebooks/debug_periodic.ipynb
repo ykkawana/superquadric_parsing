{
 "nbformat": 4,
 "nbformat_minor": 2,
 "metadata": {
  "language_info": {
   "name": "python",
   "codemirror_mode": {
    "name": "ipython",
    "version": 3
   },
   "version": "3.7.4-final"
  },
  "orig_nbformat": 2,
  "file_extension": ".py",
  "mimetype": "text/x-python",
  "name": "python",
  "npconvert_exporter": "python",
  "pygments_lexer": "ipython3",
  "version": 3,
  "kernelspec": {
   "name": "python37464bitenvvenv349ecda9fa2f4a0ba9d9a16cefbb932b",
   "display_name": "Python 3.7.4 64-bit ('env': venv)"
  }
 },
 "cells": [
  {
   "cell_type": "code",
   "execution_count": 14,
   "metadata": {},
   "outputs": [
    {
     "output_type": "stream",
     "name": "stdout",
     "text": "The autoreload extension is already loaded. To reload it, use:\n  %reload_ext autoreload\n"
    }
   ],
   "source": [
    "%load_ext autoreload\n",
    "\n",
    "import sys\n",
    "sys.path.insert(0, '..')\n",
    "\n",
    "import torch\n",
    "from torch import nn\n",
    "from external.QuaterNet.common import quaternion\n",
    "import numpy as np\n",
    "import math\n",
    "import matplotlib.pyplot as plt\n",
    "\n",
    "from models import super_shape\n",
    "from models import super_shape_sampler\n",
    "from models import periodic_shape_sampler\n",
    "from models import periodic_shape_sampler_xyz\n",
    "import utils\n",
    "from visualize import plot\n",
    ""
   ]
  },
  {
   "cell_type": "code",
   "execution_count": 15,
   "metadata": {},
   "outputs": [
    {
     "output_type": "stream",
     "name": "stdout",
     "text": "tensor([-0.0454, -0.0911, -0.0299,  0.0090,  0.0015,  0.0138,  0.0537,  0.0095,\n        -0.0454], grad_fn=<ViewBackward>)\ntensor([True, True, True, True, True, True, True, True, True])\ntensor([-180.0000, -135.0000,  -90.0000,  -45.0000,    0.0000,   45.0000,\n          90.0000,  135.0000,  180.0000])\n"
    },
    {
     "output_type": "display_data",
     "data": {
      "text/plain": "<Figure size 432x288 with 1 Axes>",
      "image/svg+xml": "<?xml version=\"1.0\" encoding=\"utf-8\" standalone=\"no\"?>\n<!DOCTYPE svg PUBLIC \"-//W3C//DTD SVG 1.1//EN\"\n  \"http://www.w3.org/Graphics/SVG/1.1/DTD/svg11.dtd\">\n<!-- Created with matplotlib (http://matplotlib.org/) -->\n<svg height=\"252.018125pt\" version=\"1.1\" viewBox=\"0 0 305.313035 252.018125\" width=\"305.313035pt\" xmlns=\"http://www.w3.org/2000/svg\" xmlns:xlink=\"http://www.w3.org/1999/xlink\">\n <defs>\n  <style type=\"text/css\">\n*{stroke-linecap:butt;stroke-linejoin:round;}\n  </style>\n </defs>\n <g id=\"figure_1\">\n  <g id=\"patch_1\">\n   <path d=\"M 0 252.018125 \nL 305.313035 252.018125 \nL 305.313035 0 \nL 0 0 \nz\n\" style=\"fill:none;\"/>\n  </g>\n  <g id=\"axes_1\">\n   <g id=\"patch_2\">\n    <path d=\"M 38.482813 228.14 \nL 294.613035 228.14 \nL 294.613035 10.7 \nL 38.482813 10.7 \nz\n\" style=\"fill:#ffffff;\"/>\n   </g>\n   <g id=\"PathCollection_1\">\n    <defs>\n     <path d=\"M 0 1.581139 \nC 0.419323 1.581139 0.821528 1.41454 1.118034 1.118034 \nC 1.41454 0.821528 1.581139 0.419323 1.581139 0 \nC 1.581139 -0.419323 1.41454 -0.821528 1.118034 -1.118034 \nC 0.821528 -1.41454 0.419323 -1.581139 0 -1.581139 \nC -0.419323 -1.581139 -0.821528 -1.41454 -1.118034 -1.118034 \nC -1.41454 -0.821528 -1.581139 -0.419323 -1.581139 0 \nC -1.581139 0.419323 -1.41454 0.821528 -1.118034 1.118034 \nC -0.821528 1.41454 -0.419323 1.581139 0 1.581139 \nz\n\" id=\"mf2405c79d0\" style=\"stroke:#1f77b4;\"/>\n    </defs>\n    <g clip-path=\"url(#p9ce8c1de01)\">\n     <use style=\"fill:#1f77b4;stroke:#1f77b4;\" x=\"52.383368\" xlink:href=\"#mf2405c79d0\" y=\"116.07693\"/>\n     <use style=\"fill:#1f77b4;stroke:#1f77b4;\" x=\"121.644778\" xlink:href=\"#mf2405c79d0\" y=\"182.135309\"/>\n     <use style=\"fill:#1f77b4;stroke:#1f77b4;\" x=\"187.703141\" xlink:href=\"#mf2405c79d0\" y=\"215.326984\"/>\n     <use style=\"fill:#1f77b4;stroke:#1f77b4;\" x=\"280.712479\" xlink:href=\"#mf2405c79d0\" y=\"209.086286\"/>\n     <use style=\"fill:#1f77b4;stroke:#1f77b4;\" x=\"270.468516\" xlink:href=\"#mf2405c79d0\" y=\"116.076942\"/>\n     <use style=\"fill:#1f77b4;stroke:#1f77b4;\" x=\"280.267051\" xlink:href=\"#mf2405c79d0\" y=\"23.513016\"/>\n     <use style=\"fill:#1f77b4;stroke:#1f77b4;\" x=\"187.703152\" xlink:href=\"#mf2405c79d0\" y=\"24.88918\"/>\n     <use style=\"fill:#1f77b4;stroke:#1f77b4;\" x=\"127.736503\" xlink:href=\"#mf2405c79d0\" y=\"56.110329\"/>\n     <use style=\"fill:#1f77b4;stroke:#1f77b4;\" x=\"52.383368\" xlink:href=\"#mf2405c79d0\" y=\"116.076954\"/>\n    </g>\n   </g>\n   <g id=\"PathCollection_2\">\n    <defs>\n     <path d=\"M 0 3 \nC 0.795609 3 1.55874 2.683901 2.12132 2.12132 \nC 2.683901 1.55874 3 0.795609 3 0 \nC 3 -0.795609 2.683901 -1.55874 2.12132 -2.12132 \nC 1.55874 -2.683901 0.795609 -3 0 -3 \nC -0.795609 -3 -1.55874 -2.683901 -2.12132 -2.12132 \nC -2.683901 -1.55874 -3 -0.795609 -3 0 \nC -3 0.795609 -2.683901 1.55874 -2.12132 2.12132 \nC -1.55874 2.683901 -0.795609 3 0 3 \nz\n\" id=\"m533d9f4f1b\" style=\"stroke:#ff7f0e;\"/>\n    </defs>\n    <g clip-path=\"url(#p9ce8c1de01)\">\n     <use style=\"fill:#ff7f0e;stroke:#ff7f0e;\" x=\"52.383368\" xlink:href=\"#m533d9f4f1b\" y=\"116.07693\"/>\n     <use style=\"fill:#ff7f0e;stroke:#ff7f0e;\" x=\"121.644778\" xlink:href=\"#m533d9f4f1b\" y=\"182.135309\"/>\n     <use style=\"fill:#ff7f0e;stroke:#ff7f0e;\" x=\"187.703141\" xlink:href=\"#m533d9f4f1b\" y=\"215.326984\"/>\n     <use style=\"fill:#ff7f0e;stroke:#ff7f0e;\" x=\"280.712479\" xlink:href=\"#m533d9f4f1b\" y=\"209.086286\"/>\n     <use style=\"fill:#ff7f0e;stroke:#ff7f0e;\" x=\"270.468516\" xlink:href=\"#m533d9f4f1b\" y=\"116.076942\"/>\n     <use style=\"fill:#ff7f0e;stroke:#ff7f0e;\" x=\"280.267051\" xlink:href=\"#m533d9f4f1b\" y=\"23.513016\"/>\n     <use style=\"fill:#ff7f0e;stroke:#ff7f0e;\" x=\"187.703152\" xlink:href=\"#m533d9f4f1b\" y=\"24.88918\"/>\n     <use style=\"fill:#ff7f0e;stroke:#ff7f0e;\" x=\"127.736503\" xlink:href=\"#m533d9f4f1b\" y=\"56.110329\"/>\n     <use style=\"fill:#ff7f0e;stroke:#ff7f0e;\" x=\"52.383368\" xlink:href=\"#m533d9f4f1b\" y=\"116.076954\"/>\n    </g>\n   </g>\n   <g id=\"matplotlib.axis_1\">\n    <g id=\"xtick_1\">\n     <g id=\"line2d_1\">\n      <defs>\n       <path d=\"M 0 0 \nL 0 3.5 \n\" id=\"mf182157326\" style=\"stroke:#000000;stroke-width:0.8;\"/>\n      </defs>\n      <g>\n       <use style=\"stroke:#000000;stroke-width:0.8;\" x=\"63.365349\" xlink:href=\"#mf182157326\" y=\"228.14\"/>\n      </g>\n     </g>\n     <g id=\"text_1\">\n      <!-- −1.5 -->\n      <defs>\n       <path d=\"M 10.59375 35.5 \nL 73.1875 35.5 \nL 73.1875 27.203125 \nL 10.59375 27.203125 \nz\n\" id=\"DejaVuSans-2212\"/>\n       <path d=\"M 12.40625 8.296875 \nL 28.515625 8.296875 \nL 28.515625 63.921875 \nL 10.984375 60.40625 \nL 10.984375 69.390625 \nL 28.421875 72.90625 \nL 38.28125 72.90625 \nL 38.28125 8.296875 \nL 54.390625 8.296875 \nL 54.390625 0 \nL 12.40625 0 \nz\n\" id=\"DejaVuSans-31\"/>\n       <path d=\"M 10.6875 12.40625 \nL 21 12.40625 \nL 21 0 \nL 10.6875 0 \nz\n\" id=\"DejaVuSans-2e\"/>\n       <path d=\"M 10.796875 72.90625 \nL 49.515625 72.90625 \nL 49.515625 64.59375 \nL 19.828125 64.59375 \nL 19.828125 46.734375 \nQ 21.96875 47.46875 24.109375 47.828125 \nQ 26.265625 48.1875 28.421875 48.1875 \nQ 40.625 48.1875 47.75 41.5 \nQ 54.890625 34.8125 54.890625 23.390625 \nQ 54.890625 11.625 47.5625 5.09375 \nQ 40.234375 -1.421875 26.90625 -1.421875 \nQ 22.3125 -1.421875 17.546875 -0.640625 \nQ 12.796875 0.140625 7.71875 1.703125 \nL 7.71875 11.625 \nQ 12.109375 9.234375 16.796875 8.0625 \nQ 21.484375 6.890625 26.703125 6.890625 \nQ 35.15625 6.890625 40.078125 11.328125 \nQ 45.015625 15.765625 45.015625 23.390625 \nQ 45.015625 31 40.078125 35.4375 \nQ 35.15625 39.890625 26.703125 39.890625 \nQ 22.75 39.890625 18.8125 39.015625 \nQ 14.890625 38.140625 10.796875 36.28125 \nz\n\" id=\"DejaVuSans-35\"/>\n      </defs>\n      <g transform=\"translate(51.223943 242.738437)scale(0.1 -0.1)\">\n       <use xlink:href=\"#DejaVuSans-2212\"/>\n       <use x=\"83.789062\" xlink:href=\"#DejaVuSans-31\"/>\n       <use x=\"147.412109\" xlink:href=\"#DejaVuSans-2e\"/>\n       <use x=\"179.199219\" xlink:href=\"#DejaVuSans-35\"/>\n      </g>\n     </g>\n    </g>\n    <g id=\"xtick_2\">\n     <g id=\"line2d_2\">\n      <g>\n       <use style=\"stroke:#000000;stroke-width:0.8;\" x=\"104.811281\" xlink:href=\"#mf182157326\" y=\"228.14\"/>\n      </g>\n     </g>\n     <g id=\"text_2\">\n      <!-- −1.0 -->\n      <defs>\n       <path d=\"M 31.78125 66.40625 \nQ 24.171875 66.40625 20.328125 58.90625 \nQ 16.5 51.421875 16.5 36.375 \nQ 16.5 21.390625 20.328125 13.890625 \nQ 24.171875 6.390625 31.78125 6.390625 \nQ 39.453125 6.390625 43.28125 13.890625 \nQ 47.125 21.390625 47.125 36.375 \nQ 47.125 51.421875 43.28125 58.90625 \nQ 39.453125 66.40625 31.78125 66.40625 \nz\nM 31.78125 74.21875 \nQ 44.046875 74.21875 50.515625 64.515625 \nQ 56.984375 54.828125 56.984375 36.375 \nQ 56.984375 17.96875 50.515625 8.265625 \nQ 44.046875 -1.421875 31.78125 -1.421875 \nQ 19.53125 -1.421875 13.0625 8.265625 \nQ 6.59375 17.96875 6.59375 36.375 \nQ 6.59375 54.828125 13.0625 64.515625 \nQ 19.53125 74.21875 31.78125 74.21875 \nz\n\" id=\"DejaVuSans-30\"/>\n      </defs>\n      <g transform=\"translate(92.669875 242.738437)scale(0.1 -0.1)\">\n       <use xlink:href=\"#DejaVuSans-2212\"/>\n       <use x=\"83.789062\" xlink:href=\"#DejaVuSans-31\"/>\n       <use x=\"147.412109\" xlink:href=\"#DejaVuSans-2e\"/>\n       <use x=\"179.199219\" xlink:href=\"#DejaVuSans-30\"/>\n      </g>\n     </g>\n    </g>\n    <g id=\"xtick_3\">\n     <g id=\"line2d_3\">\n      <g>\n       <use style=\"stroke:#000000;stroke-width:0.8;\" x=\"146.257213\" xlink:href=\"#mf182157326\" y=\"228.14\"/>\n      </g>\n     </g>\n     <g id=\"text_3\">\n      <!-- −0.5 -->\n      <g transform=\"translate(134.115807 242.738437)scale(0.1 -0.1)\">\n       <use xlink:href=\"#DejaVuSans-2212\"/>\n       <use x=\"83.789062\" xlink:href=\"#DejaVuSans-30\"/>\n       <use x=\"147.412109\" xlink:href=\"#DejaVuSans-2e\"/>\n       <use x=\"179.199219\" xlink:href=\"#DejaVuSans-35\"/>\n      </g>\n     </g>\n    </g>\n    <g id=\"xtick_4\">\n     <g id=\"line2d_4\">\n      <g>\n       <use style=\"stroke:#000000;stroke-width:0.8;\" x=\"187.703145\" xlink:href=\"#mf182157326\" y=\"228.14\"/>\n      </g>\n     </g>\n     <g id=\"text_4\">\n      <!-- 0.0 -->\n      <g transform=\"translate(179.751583 242.738437)scale(0.1 -0.1)\">\n       <use xlink:href=\"#DejaVuSans-30\"/>\n       <use x=\"63.623047\" xlink:href=\"#DejaVuSans-2e\"/>\n       <use x=\"95.410156\" xlink:href=\"#DejaVuSans-30\"/>\n      </g>\n     </g>\n    </g>\n    <g id=\"xtick_5\">\n     <g id=\"line2d_5\">\n      <g>\n       <use style=\"stroke:#000000;stroke-width:0.8;\" x=\"229.149077\" xlink:href=\"#mf182157326\" y=\"228.14\"/>\n      </g>\n     </g>\n     <g id=\"text_5\">\n      <!-- 0.5 -->\n      <g transform=\"translate(221.197515 242.738437)scale(0.1 -0.1)\">\n       <use xlink:href=\"#DejaVuSans-30\"/>\n       <use x=\"63.623047\" xlink:href=\"#DejaVuSans-2e\"/>\n       <use x=\"95.410156\" xlink:href=\"#DejaVuSans-35\"/>\n      </g>\n     </g>\n    </g>\n    <g id=\"xtick_6\">\n     <g id=\"line2d_6\">\n      <g>\n       <use style=\"stroke:#000000;stroke-width:0.8;\" x=\"270.595009\" xlink:href=\"#mf182157326\" y=\"228.14\"/>\n      </g>\n     </g>\n     <g id=\"text_6\">\n      <!-- 1.0 -->\n      <g transform=\"translate(262.643447 242.738437)scale(0.1 -0.1)\">\n       <use xlink:href=\"#DejaVuSans-31\"/>\n       <use x=\"63.623047\" xlink:href=\"#DejaVuSans-2e\"/>\n       <use x=\"95.410156\" xlink:href=\"#DejaVuSans-30\"/>\n      </g>\n     </g>\n    </g>\n   </g>\n   <g id=\"matplotlib.axis_2\">\n    <g id=\"ytick_1\">\n     <g id=\"line2d_7\">\n      <defs>\n       <path d=\"M 0 0 \nL -3.5 0 \n\" id=\"mc5a890f8e7\" style=\"stroke:#000000;stroke-width:0.8;\"/>\n      </defs>\n      <g>\n       <use style=\"stroke:#000000;stroke-width:0.8;\" x=\"38.482813\" xlink:href=\"#mc5a890f8e7\" y=\"198.968806\"/>\n      </g>\n     </g>\n     <g id=\"text_7\">\n      <!-- −1.0 -->\n      <g transform=\"translate(7.2 202.768025)scale(0.1 -0.1)\">\n       <use xlink:href=\"#DejaVuSans-2212\"/>\n       <use x=\"83.789062\" xlink:href=\"#DejaVuSans-31\"/>\n       <use x=\"147.412109\" xlink:href=\"#DejaVuSans-2e\"/>\n       <use x=\"179.199219\" xlink:href=\"#DejaVuSans-30\"/>\n      </g>\n     </g>\n    </g>\n    <g id=\"ytick_2\">\n     <g id=\"line2d_8\">\n      <g>\n       <use style=\"stroke:#000000;stroke-width:0.8;\" x=\"38.482813\" xlink:href=\"#mc5a890f8e7\" y=\"157.522874\"/>\n      </g>\n     </g>\n     <g id=\"text_8\">\n      <!-- −0.5 -->\n      <g transform=\"translate(7.2 161.322093)scale(0.1 -0.1)\">\n       <use xlink:href=\"#DejaVuSans-2212\"/>\n       <use x=\"83.789062\" xlink:href=\"#DejaVuSans-30\"/>\n       <use x=\"147.412109\" xlink:href=\"#DejaVuSans-2e\"/>\n       <use x=\"179.199219\" xlink:href=\"#DejaVuSans-35\"/>\n      </g>\n     </g>\n    </g>\n    <g id=\"ytick_3\">\n     <g id=\"line2d_9\">\n      <g>\n       <use style=\"stroke:#000000;stroke-width:0.8;\" x=\"38.482813\" xlink:href=\"#mc5a890f8e7\" y=\"116.076942\"/>\n      </g>\n     </g>\n     <g id=\"text_9\">\n      <!-- 0.0 -->\n      <g transform=\"translate(15.579688 119.876161)scale(0.1 -0.1)\">\n       <use xlink:href=\"#DejaVuSans-30\"/>\n       <use x=\"63.623047\" xlink:href=\"#DejaVuSans-2e\"/>\n       <use x=\"95.410156\" xlink:href=\"#DejaVuSans-30\"/>\n      </g>\n     </g>\n    </g>\n    <g id=\"ytick_4\">\n     <g id=\"line2d_10\">\n      <g>\n       <use style=\"stroke:#000000;stroke-width:0.8;\" x=\"38.482813\" xlink:href=\"#mc5a890f8e7\" y=\"74.63101\"/>\n      </g>\n     </g>\n     <g id=\"text_10\">\n      <!-- 0.5 -->\n      <g transform=\"translate(15.579688 78.430229)scale(0.1 -0.1)\">\n       <use xlink:href=\"#DejaVuSans-30\"/>\n       <use x=\"63.623047\" xlink:href=\"#DejaVuSans-2e\"/>\n       <use x=\"95.410156\" xlink:href=\"#DejaVuSans-35\"/>\n      </g>\n     </g>\n    </g>\n    <g id=\"ytick_5\">\n     <g id=\"line2d_11\">\n      <g>\n       <use style=\"stroke:#000000;stroke-width:0.8;\" x=\"38.482813\" xlink:href=\"#mc5a890f8e7\" y=\"33.185078\"/>\n      </g>\n     </g>\n     <g id=\"text_11\">\n      <!-- 1.0 -->\n      <g transform=\"translate(15.579688 36.984297)scale(0.1 -0.1)\">\n       <use xlink:href=\"#DejaVuSans-31\"/>\n       <use x=\"63.623047\" xlink:href=\"#DejaVuSans-2e\"/>\n       <use x=\"95.410156\" xlink:href=\"#DejaVuSans-30\"/>\n      </g>\n     </g>\n    </g>\n   </g>\n   <g id=\"patch_3\">\n    <path d=\"M 38.482813 228.14 \nL 38.482813 10.7 \n\" style=\"fill:none;stroke:#000000;stroke-linecap:square;stroke-linejoin:miter;stroke-width:0.8;\"/>\n   </g>\n   <g id=\"patch_4\">\n    <path d=\"M 294.613035 228.14 \nL 294.613035 10.7 \n\" style=\"fill:none;stroke:#000000;stroke-linecap:square;stroke-linejoin:miter;stroke-width:0.8;\"/>\n   </g>\n   <g id=\"patch_5\">\n    <path d=\"M 38.482813 228.14 \nL 294.613035 228.14 \n\" style=\"fill:none;stroke:#000000;stroke-linecap:square;stroke-linejoin:miter;stroke-width:0.8;\"/>\n   </g>\n   <g id=\"patch_6\">\n    <path d=\"M 38.482813 10.7 \nL 294.613035 10.7 \n\" style=\"fill:none;stroke:#000000;stroke-linecap:square;stroke-linejoin:miter;stroke-width:0.8;\"/>\n   </g>\n  </g>\n </g>\n <defs>\n  <clipPath id=\"p9ce8c1de01\">\n   <rect height=\"217.44\" width=\"256.130222\" x=\"38.482813\" y=\"10.7\"/>\n  </clipPath>\n </defs>\n</svg>\n",
      "image/png": "[encoded data removed]"
     },
     "metadata": {
      "needs_background": "light"
     }
    }
   ],
   "source": [
    "batch = 1\n",
    "m = 3\n",
    "n = 1\n",
    "n1 = 1\n",
    "n2 = 10\n",
    "n3 = 3\n",
    "a = 1\n",
    "b = 1\n",
    "P = 50\n",
    "dim = 2\n",
    "sample_num = 9\n",
    "points_num = 7\n",
    "\n",
    "rotations = [[0.]] * n\n",
    "#transitions = [[0., 0.], [1., 0]]\n",
    "transitions = [[0., 0.]]\n",
    "\n",
    "linear_scales = [[1., 1.]] * n\n",
    "\n",
    "preset_params = utils.generate_multiple_primitive_params(\n",
    "    m,\n",
    "    n1,\n",
    "    n2,\n",
    "    n3,\n",
    "    a,\n",
    "    b,\n",
    "    rotations_angle=rotations,\n",
    "    transitions=transitions,\n",
    "    linear_scales=linear_scales,\n",
    "    nn=n)\n",
    "\n",
    "thetas = utils.sample_spherical_angles(\n",
    "    sample_num=sample_num, batch=batch, dim=dim)\n",
    "sampler = periodic_shape_sampler_xyz.PeriodicShapeSamplerXYZ(points_num, m, n, dim=dim)\n",
    "sampler.eval()\n",
    "points = torch.ones([batch, points_num, dim]).float()\n",
    "# B, N, P\n",
    "radius = sampler.transform_circumference_angle_to_super_shape_radius(\n",
    "    thetas, preset_params, points=points)\n",
    "# B, P, dim\n",
    "coord = sampler.transform_circumference_angle_to_super_shape_world_cartesian_coord(\n",
    "    thetas, radius, preset_params, points=points).view(batch, -1, dim)\n",
    "\n",
    "sgn = sampler.transform_world_cartesian_coord_to_tsd(\n",
    "    coord, preset_params, points=points)\n",
    "\n",
    "fig = plt.figure()\n",
    "g = fig.add_subplot(1, 1, 1)\n",
    "plot.plot_primitive_point_cloud_2d(g, coord, s=10)\n",
    "\n",
    "x = coord[0, :, 0].detach().cpu().numpy()\n",
    "y = coord[0, :, 1].detach().cpu().numpy()\n",
    "sgn = sgn.view(-1)\n",
    "print(sgn)\n",
    "\n",
    "error_idx =  ~((-1e-5 < sgn) & (sgn < 1e-5))\n",
    "print(error_idx)\n",
    "g.scatter(x[error_idx], y[error_idx])\n",
    "error_thetas = thetas.view(-1)[error_idx]\n",
    "print(error_thetas/math.pi * 180.)\n",
    "\n",
    "#assert torch.allclose(sgn, torch.zeros_like(sgn),\n",
    "#                                  atol=1e-5), (sgn.min(), sgn.max())"
   ]
  },
  {
   "cell_type": "code",
   "execution_count": 16,
   "metadata": {},
   "outputs": [],
   "source": [
    "batch = 3\n",
    "m = 4\n",
    "n = 1\n",
    "n1 = 1\n",
    "n2 = 1\n",
    "n3 = 1\n",
    "a = 1\n",
    "b = 1\n",
    "theta = math.pi / 2.\n",
    "sample_num = 200\n",
    "points_num = 5\n",
    "\n",
    "dim = 2\n",
    "\n",
    "rotations = [[0.]]\n",
    "transitions = [[0., 0.]]\n",
    "linear_scales = [[1., 1.]]\n",
    "\n",
    "sampler = periodic_shape_sampler_xyz.PeriodicShapeSamplerXYZ(points_num,\n",
    "                                                                m,\n",
    "                                                                n,\n",
    "                                                                last_scale=.1,\n",
    "                                                                dim=dim)\n",
    "sampler = super_shape_sampler.SuperShapeSampler(m, n, dim=dim)\n",
    "preset_params = utils.generate_multiple_primitive_params(\n",
    "    m,\n",
    "    n1,\n",
    "    n2,\n",
    "    n3,\n",
    "    a,\n",
    "    b,\n",
    "    rotations_angle=rotations,\n",
    "    transitions=transitions,\n",
    "    linear_scales=linear_scales,\n",
    "    nn=n)\n",
    "\n",
    "batched_theta_test_tensor = utils.sample_spherical_angles(\n",
    "    sample_num=sample_num, batch=batch, dim=dim)\n",
    "\n",
    "batched_points = torch.zeros([batch, points_num, dim]).float()\n",
    "\n",
    "# B, N, P\n",
    "radius = sampler.transform_circumference_angle_to_super_shape_radius(\n",
    "    batched_theta_test_tensor, preset_params, points=batched_points)\n",
    "# B, P, dim\n",
    "coord = sampler.transform_circumference_angle_to_super_shape_world_cartesian_coord(\n",
    "    batched_theta_test_tensor,\n",
    "    radius,\n",
    "    preset_params,\n",
    "    points=batched_points).view(batch, -1, dim)\n",
    "\n",
    "sgn = sampler.transform_world_cartesian_coord_to_tsd(coord,\n",
    "                                                        preset_params,\n",
    "                                                        points=batched_points)\n",
    ""
   ]
  },
  {
   "cell_type": "code",
   "execution_count": 17,
   "metadata": {},
   "outputs": [
    {
     "output_type": "execute_result",
     "data": {
      "text/plain": "'\\nsurafce_points_list = [surface_points1]\\nfig = plt.figure()\\nfor idx, surface_points in enumerate(surafce_points_list):\\n    g = fig.add_subplot(1, len(surafce_points_list), idx+1)\\n    plot.plot_primitive_point_cloud_2d(g, surface_points)\\n\\ntsd_list = [tsd1]\\nfig = plt.figure()\\nfor idx, tsd in enumerate(tsd_list):\\n    g = fig.add_subplot(1, len(tsd_list), idx+1)\\n    plot.draw_primitive_inside_2d(g, tsd, coord)\\n'"
     },
     "metadata": {},
     "execution_count": 17
    }
   ],
   "source": [
    "\n",
    "\n",
    "\"\"\"\n",
    "surafce_points_list = [surface_points1]\n",
    "fig = plt.figure()\n",
    "for idx, surface_points in enumerate(surafce_points_list):\n",
    "    g = fig.add_subplot(1, len(surafce_points_list), idx+1)\n",
    "    plot.plot_primitive_point_cloud_2d(g, surface_points)\n",
    "\n",
    "tsd_list = [tsd1]\n",
    "fig = plt.figure()\n",
    "for idx, tsd in enumerate(tsd_list):\n",
    "    g = fig.add_subplot(1, len(tsd_list), idx+1)\n",
    "    plot.draw_primitive_inside_2d(g, tsd, coord)\n",
    "\"\"\"\n",
    ""
   ]
  }
 ]
}